{
 "cells": [
  {
   "cell_type": "markdown",
   "metadata": {},
   "source": [
    "### Duvidas:"
   ]
  },
  {
   "cell_type": "markdown",
   "metadata": {},
   "source": [
    "- Total de  colunas: 11\n",
    "    - so  muda quando avisar\n",
    "- Qual eh a origem desses relatorios?\n",
    "    - Eles sao extraidos do sistema de  vendas\n",
    "- Data eh a data de realizacao da venda?\n",
    "    - sim\n",
    "- nome da aba eh sempre dados?\n",
    "    - sim\n",
    "- Quem sao os compradores?\n",
    "    - o nome do arquivo tem algo  a ver com isso?\n",
    "        - nome do arquivo eh coinfigurado da seguinte  forma: nome do seg - pais onde foi realizada a venda"
   ]
  },
  {
   "cell_type": "markdown",
   "metadata": {},
   "source": [
    "Passo a passo:\n",
    "\n",
    "\n",
    "- Criar uma nova planilha em branco\n",
    "- replicar as  colunas que existem nos relatorios(11 colunas)\n",
    "- inserir  2  colubas  novas  seg  e pais\n",
    "- percoirrer todos os arquivos, copiar  e  colar os dados na  planilha consolidado e  preencher  as  informacoes de  segmento e pais\n",
    "\n"
   ]
  },
  {
   "cell_type": "code",
   "execution_count": 54,
   "metadata": {},
   "outputs": [],
   "source": [
    "import pandas as pd\n",
    "import os\n"
   ]
  },
  {
   "cell_type": "code",
   "execution_count": 69,
   "metadata": {},
   "outputs": [],
   "source": [
    "colunas = [\n",
    "    'Segmento',\n",
    "    'Pais',\n",
    "    'Produto', \n",
    "    'Qtde de Unidades Vendidas',\t\n",
    "    'Preço Unitário'a, \n",
    "    'Valor Total', \n",
    "    'Desconto', \n",
    "    'Valor Total c/ Desconto', \n",
    "    'Custo Total', \n",
    "    'Lucro', \n",
    "    'Data', \n",
    "    'Mês', \n",
    "    'Ano'\n",
    "]\n",
    "consolidado4 = pd.DataFrame(columns=colunas)"
   ]
  },
  {
   "cell_type": "code",
   "execution_count": 70,
   "metadata": {},
   "outputs": [
    {
     "data": {
      "text/html": [
       "<div>\n",
       "<style scoped>\n",
       "    .dataframe tbody tr th:only-of-type {\n",
       "        vertical-align: middle;\n",
       "    }\n",
       "\n",
       "    .dataframe tbody tr th {\n",
       "        vertical-align: top;\n",
       "    }\n",
       "\n",
       "    .dataframe thead th {\n",
       "        text-align: right;\n",
       "    }\n",
       "</style>\n",
       "<table border=\"1\" class=\"dataframe\">\n",
       "  <thead>\n",
       "    <tr style=\"text-align: right;\">\n",
       "      <th></th>\n",
       "      <th>Segmento</th>\n",
       "      <th>Pais</th>\n",
       "      <th>Produto</th>\n",
       "      <th>Qtde de Unidades Vendidas</th>\n",
       "      <th>Preço Unitário</th>\n",
       "      <th>Valor Total</th>\n",
       "      <th>Desconto</th>\n",
       "      <th>Valor Total c/ Desconto</th>\n",
       "      <th>Custo Total</th>\n",
       "      <th>Lucro</th>\n",
       "      <th>Data</th>\n",
       "      <th>Mês</th>\n",
       "      <th>Ano</th>\n",
       "    </tr>\n",
       "  </thead>\n",
       "  <tbody>\n",
       "  </tbody>\n",
       "</table>\n",
       "</div>"
      ],
      "text/plain": [
       "Empty DataFrame\n",
       "Columns: [Segmento, Pais, Produto, Qtde de Unidades Vendidas, Preço Unitário, Valor Total, Desconto, Valor Total c/ Desconto, Custo Total, Lucro, Data, Mês, Ano]\n",
       "Index: []"
      ]
     },
     "execution_count": 70,
     "metadata": {},
     "output_type": "execute_result"
    }
   ],
   "source": [
    "consolidado4"
   ]
  },
  {
   "cell_type": "code",
   "execution_count": 71,
   "metadata": {},
   "outputs": [],
   "source": [
    "arquivos = os.listdir('C:\\\\Users\\\\lucas\\\\OneDrive\\\\Documentos\\\\Estudos\\\\python\\\\projetos_praticos\\\\Projeto1\\\\planilhas')"
   ]
  },
  {
   "cell_type": "code",
   "execution_count": 73,
   "metadata": {},
   "outputs": [],
   "source": [
    "for excel in arquivos:\n",
    "\n",
    "    if excel.endswith('.xlsx'):\n",
    "        dados_arquivo = excel.split('-')\n",
    "        segmento = dados_arquivo[0]\n",
    "        pais = dados_arquivo[1].replace('.xlsx', '')\n",
    "        \n",
    "        try:\n",
    "            df = pd.read_excel(f'planilhas\\\\{excel}')\n",
    "            df.insert(0, 'Segmento', segmento)\n",
    "            df.insert(1, 'País', pais)        \n",
    "            consolidado4 = consolidado4.append(df)\n",
    "        except:\n",
    "            with open('log_erros.txt', 'w') as arquivo:\n",
    "                arquivo.write(f'Erro ao tentar consolidar o arquivo {excel}.')\n",
    "    else:\n",
    "        with open('log_erros.txt', 'w') as arquivo:\n",
    "            arquivo.write(f'O arquivo {excel} não é um arquivo Excel válido!')"
   ]
  },
  {
   "cell_type": "code",
   "execution_count": 75,
   "metadata": {},
   "outputs": [
    {
     "data": {
      "text/html": [
       "<div>\n",
       "<style scoped>\n",
       "    .dataframe tbody tr th:only-of-type {\n",
       "        vertical-align: middle;\n",
       "    }\n",
       "\n",
       "    .dataframe tbody tr th {\n",
       "        vertical-align: top;\n",
       "    }\n",
       "\n",
       "    .dataframe thead th {\n",
       "        text-align: right;\n",
       "    }\n",
       "</style>\n",
       "<table border=\"1\" class=\"dataframe\">\n",
       "  <thead>\n",
       "    <tr style=\"text-align: right;\">\n",
       "      <th></th>\n",
       "      <th>Segmento</th>\n",
       "      <th>Pais</th>\n",
       "      <th>Produto</th>\n",
       "      <th>Qtde de Unidades Vendidas</th>\n",
       "      <th>Preço Unitário</th>\n",
       "      <th>Valor Total</th>\n",
       "      <th>Desconto</th>\n",
       "      <th>Valor Total c/ Desconto</th>\n",
       "      <th>Custo Total</th>\n",
       "      <th>Lucro</th>\n",
       "      <th>Data</th>\n",
       "      <th>Mês</th>\n",
       "      <th>Ano</th>\n",
       "    </tr>\n",
       "  </thead>\n",
       "  <tbody>\n",
       "  </tbody>\n",
       "</table>\n",
       "</div>"
      ],
      "text/plain": [
       "Empty DataFrame\n",
       "Columns: [Segmento, Pais, Produto, Qtde de Unidades Vendidas, Preço Unitário, Valor Total, Desconto, Valor Total c/ Desconto, Custo Total, Lucro, Data, Mês, Ano]\n",
       "Index: []"
      ]
     },
     "execution_count": 75,
     "metadata": {},
     "output_type": "execute_result"
    }
   ],
   "source": [
    "consolidado4"
   ]
  },
  {
   "cell_type": "code",
   "execution_count": 53,
   "metadata": {},
   "outputs": [],
   "source": [
    "consolidado2.to_excel('report.xlsx', index=False)"
   ]
  },
  {
   "cell_type": "code",
   "execution_count": null,
   "metadata": {},
   "outputs": [],
   "source": []
  }
 ],
 "metadata": {
  "kernelspec": {
   "display_name": "venv",
   "language": "python",
   "name": "python3"
  },
  "language_info": {
   "codemirror_mode": {
    "name": "ipython",
    "version": 3
   },
   "file_extension": ".py",
   "mimetype": "text/x-python",
   "name": "python",
   "nbconvert_exporter": "python",
   "pygments_lexer": "ipython3",
   "version": "3.11.4"
  }
 },
 "nbformat": 4,
 "nbformat_minor": 2
}
